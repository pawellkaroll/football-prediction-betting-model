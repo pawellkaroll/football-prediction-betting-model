{
 "cells": [
  {
   "attachments": {},
   "cell_type": "markdown",
   "metadata": {},
   "source": [
    "# Packages"
   ]
  },
  {
   "cell_type": "code",
   "execution_count": 1,
   "metadata": {},
   "outputs": [],
   "source": [
    "import functions\n",
    "import pandas as pd\n",
    "import numpy as np\n",
    "import matplotlib.pyplot as plt\n",
    "import seaborn as sns\n",
    "from sklearn.linear_model import LinearRegression\n",
    "from sklearn.preprocessing import MinMaxScaler, StandardScaler\n",
    "from pandas.plotting import scatter_matrix\n",
    "from scipy.stats import boxcox\n",
    "from sklearn.model_selection import GridSearchCV\n",
    "from sklearn.metrics import confusion_matrix, accuracy_score, recall_score, precision_score, f1_score, roc_curve, roc_auc_score\n",
    "from numpy import mean, std\n",
    "from sklearn.model_selection import cross_val_score, RepeatedStratifiedKFold\n",
    "import xgboost as xgb\n",
    "\n",
    "from sklearn.preprocessing import LabelEncoder\n",
    "import time\n",
    "from sklearn import metrics\n",
    "from collections import Counter\n",
    "from sklearn.feature_selection import mutual_info_classif,f_classif\n",
    "from sklearn.feature_selection import VarianceThreshold, SelectKBest # Feature selector\n",
    "from sklearn.pipeline import Pipeline # For setting up pipeline\n",
    "from sklearn.pipeline import Pipeline \n",
    "from sklearn.preprocessing import Normalizer, StandardScaler, MinMaxScaler, PowerTransformer, MaxAbsScaler, LabelEncoder\n",
    "from sklearn.model_selection import GridSearchCV, RandomizedSearchCV\n",
    "import joblib\n",
    "from matplotlib.colors import ListedColormap\n",
    "from sklearn.metrics import make_scorer,matthews_corrcoef, average_precision_score\n",
    "from sklearn.preprocessing import OneHotEncoder\n",
    "from sklearn.tree import DecisionTreeClassifier,plot_tree,export_text\n",
    "from sklearn.preprocessing import Normalizer, StandardScaler, MinMaxScaler, PowerTransformer, MaxAbsScaler, LabelEncoder\n",
    "from sklearn.model_selection import GridSearchCV # For optimization\n",
    "import warnings\n",
    "\n",
    "warnings.filterwarnings('ignore')"
   ]
  },
  {
   "cell_type": "code",
   "execution_count": 2,
   "metadata": {},
   "outputs": [],
   "source": [
    "# Set the default text font size\n",
    "plt.rc('font', size=12)# Set the axes title font size\n",
    "plt.rc('axes', titlesize=12)# Set the axes labels font size\n",
    "plt.rc('axes', labelsize=12)# Set the font size for x tick labels\n",
    "plt.rc('xtick', labelsize=12)# Set the font size for y tick labels\n",
    "plt.rc('ytick', labelsize=12)# Set the legend font size\n",
    "plt.rc('legend', fontsize=12)# Set the font size of the figure title\n",
    "plt.rc('figure', titlesize=12)"
   ]
  },
  {
   "attachments": {},
   "cell_type": "markdown",
   "metadata": {},
   "source": [
    "# Data"
   ]
  },
  {
   "cell_type": "code",
   "execution_count": 3,
   "metadata": {},
   "outputs": [
    {
     "name": "stdout",
     "output_type": "stream",
     "text": [
      "Counter({2: 90, 0: 65, 1: 45})\n",
      "Counter({2: 37, 0: 26, 1: 17})\n"
     ]
    }
   ],
   "source": [
    "df_preprocessed=pd.read_csv('df_after_preprocessing.csv',index_col=0)\n",
    "\n",
    "final_variables=['BHWinstreak', 'BHLosestreak', 'BAWinstreak', 'BALosestreak', 'cHS',\n",
    "       'cHF', 'cHY', 'cHR', 'r3FTHG', 'r3HC', 'r3HY', 'r3HR', 'r4HR', 'r5HR',\n",
    "       'WinsOverH', 'LossesOverH', 'WinstreakH', 'LosestreakH', 'cAF', 'cAR',\n",
    "       'r3AC', 'r3AF', 'r3AY', 'r3AR', 'r4AR', 'r5FTAG', 'r5AR', 'ewm03_xGA',\n",
    "       'LoserateA', 'WinsOverA', 'LossesOverA', 'WinstreakA', 'LosestreakA',\n",
    "       'RestH', 'RestYesNoH', 'FormationCatH', 'FormationChangeH', 'RestA',\n",
    "       'RestYesNoA', 'FormationCatA', 'FormationChangeA', 'Markov_ratingH',\n",
    "       'OD_ratingH', 'OD_ratingA', 'SpreadH', 'SpreadA', 'SpreadD', 'HomeAdv',\n",
    "       'HomeAdv2', 'HomeAdv3', 'HAvgAge', 'HForeigner', 'AAvgAge',\n",
    "       'AForeigner']\n",
    "target=['FTR']\n",
    "\n",
    "df=df_preprocessed[final_variables+target]\n",
    "\n",
    "X_train,X_test,y_train,y_test=functions.train_test_split(df=df,features='all',start=10,window=20,forecast=8)\n",
    "\n",
    "y_test_adh=y_test.copy()\n",
    "y_train = LabelEncoder().fit_transform(y_train.values.ravel())\n",
    "y_test = LabelEncoder().fit_transform(y_test.values.ravel())\n",
    "print(Counter(y_train))\n",
    "print(Counter(y_test))"
   ]
  },
  {
   "attachments": {},
   "cell_type": "markdown",
   "metadata": {},
   "source": [
    "# Functions"
   ]
  },
  {
   "cell_type": "code",
   "execution_count": 4,
   "metadata": {},
   "outputs": [],
   "source": [
    "rps_scorer= make_scorer(functions.rps, needs_proba=True,greater_is_better=False)\n",
    "roc_auc_ovr_scorer = make_scorer(roc_auc_score, needs_proba=True,multi_class='ovr')\n",
    "auprc= make_scorer(functions.multi_auprc, needs_proba=True, greater_is_better=True)"
   ]
  },
  {
   "cell_type": "code",
   "execution_count": 5,
   "metadata": {},
   "outputs": [],
   "source": [
    "def run_classifier(clf, param_grid, title,X_train,y_train):\n",
    "    # -----------------------------------------------------\n",
    "    \n",
    "    pipe = Pipeline([\n",
    "    ('classifier', clf)\n",
    "    ])\n",
    "\n",
    "    # -----------------------------------------------\n",
    "    \n",
    "    scoring = {\"Accuracy\": 'accuracy',\"Log_loss\":'neg_log_loss',\"Precision\":make_scorer(precision_score, average = 'macro'),'Recall': make_scorer(recall_score, average = 'macro'),\n",
    "               'Matthews_corrcoef': make_scorer(matthews_corrcoef),'F1_score':'f1_macro',\"AUC\":roc_auc_ovr_scorer, 'RPS': rps_scorer}\n",
    "    cv = RepeatedStratifiedKFold(n_splits=5, n_repeats=3, random_state=1)\n",
    "    grid = GridSearchCV(pipe, param_grid, cv=cv,scoring=scoring,refit='Accuracy',n_jobs=-1,verbose=1).fit(X_train, y_train)\n",
    "\n",
    "    # -----------------------------------------------------\n",
    "    print(\"The best parameters are %s\" % (grid.best_params_)) \n",
    "\n",
    "    #y_pred = grid.best_estimator_.predict(X_test)\n",
    "    #y_proba = grid.best_estimator_.predict_proba(X_test)\n",
    "\n",
    "    # -----------------------------------------------------\n",
    "\n",
    "    joblib.dump(grid, 'grid_'+title+'.pkl')\n",
    "\n",
    "    #------------------------------------------------\n",
    "\n",
    "\n",
    "def classifier_plots(grid):\n",
    "    #-----------------------------------------------------------\n",
    "    \n",
    "    y_pred = grid.best_estimator_.predict(X_test)\n",
    "    y_proba = grid.best_estimator_.predict_proba(X_test)\n",
    "\n",
    "    # -----------------------------------------------------\n",
    "    # CONFUSSION MATRIX\n",
    "    #------------------------------------------------------\n",
    "\n",
    "    fig, ax = plt.subplots(1, 1, figsize = (12,6))\n",
    "    cm = confusion_matrix(y_test, y_pred)#, labels= target_names)\n",
    "    sns.heatmap(cm, annot = True, cbar = False, fmt = \"d\", linewidths = .5, cmap = \"Blues\", ax = ax)\n",
    "    #ax.set_title(\"Macierz błędów\")\n",
    "    ax.set_xlabel(\"Klasa predykowana\")\n",
    "    ax.set_ylabel(\"Klasa rzeczywista\")\n",
    "    target_names=['Gość', 'Remis', 'Gospodarz']\n",
    "    ax.set_xticklabels(target_names)\n",
    "    ax.set_yticklabels(target_names)\n",
    "    fig.tight_layout()\n",
    "    fig.savefig(\"xgb_conf_matrix.jpg\",bbox_inches='tight')\n",
    "    plt.show()  \n",
    "\n",
    "    # -----------------------------------------------------\n",
    "\n",
    "    print('Accuracy score: %.2f%%' %(accuracy_score(y_test, y_pred)*100))  \n",
    "    print('Precision score: %.2f%%' % (precision_score(y_test, y_pred, average= 'weighted')*100))\n",
    "    print('Recall score: %.2f%%' % (recall_score(y_test, y_pred, average= 'weighted')*100))\n",
    "    print('---------------------------------')\n",
    "\n",
    "    #------------------------------------------------------------\n",
    "    # ROC CURVES AND HISTOGRAMS\n",
    "    #-----------------------------------------------------------\n",
    "    \n",
    "    classes = grid.classes_\n",
    "    classes_names=['Gość', 'Remis', 'Gospodarz']\n",
    "\n",
    "    plt.figure(figsize = (16,9))\n",
    "    bins = [i/20 for i in range(20)] + [1]\n",
    "    roc_auc_ovr = {}\n",
    "\n",
    "    for i in range(len(classes)):\n",
    "        # Gets the class\n",
    "        c = classes[i]\n",
    "        cn=classes_names[i]\n",
    "\n",
    "        # Prepares an auxiliar dataframe to help with the plots\n",
    "        df_aux = X_test.copy()\n",
    "        df_aux['class'] = [1 if y == c else 0 for y in y_test]\n",
    "        df_aux['prob'] = y_proba[:, i]\n",
    "        df_aux = df_aux.reset_index(drop = True)\n",
    "        \n",
    "        # Plots the probability distribution for the class and the rest\n",
    "        ax = plt.subplot(2, 3, i+1)\n",
    "        sns.histplot(x = \"prob\", data = df_aux, hue = 'class', color = 'b', ax = ax, bins = bins)\n",
    "        ax.set_title(cn)\n",
    "        ax.legend([f\"Klasa: {cn}\", \"Reszta\"])\n",
    "        ax.set_xlabel(f\"P(x = {cn})\")\n",
    "        \n",
    "        # Calculates the ROC Coordinates and plots the ROC Curves\n",
    "        ax_bottom = plt.subplot(2, 3, i+4)\n",
    "        tpr, fpr = functions.get_all_roc_coordinates(df_aux['class'], df_aux['prob'])\n",
    "        functions.plot_roc_curve(tpr, fpr, scatter = False, ax = ax_bottom)\n",
    "        ax_bottom.set_title(\"Krzywa ROC OvR\")\n",
    "        \n",
    "        # Calculates the ROC AUC OvR\n",
    "        roc_auc_ovr[c] = roc_auc_score(df_aux['class'], df_aux['prob'])\n",
    "        \n",
    "    plt.tight_layout()\n",
    "    plt.savefig(\"xgb_roc_auc.jpg\",bbox_inches='tight')\n",
    "    plt.show()\n",
    "\n",
    "    # Displays the ROC AUC for each class\n",
    "    avg_roc_auc = 0\n",
    "    i = 0\n",
    "    for k in roc_auc_ovr:\n",
    "        avg_roc_auc += roc_auc_ovr[k]\n",
    "        i += 1\n",
    "        print(f\"{k} ROC AUC OvR: {roc_auc_ovr[k]:.4f}\")\n",
    "    print(f\"average ROC AUC OvR: {avg_roc_auc/i:.4f}\")\n",
    "    print('---------------------------------')\n"
   ]
  },
  {
   "attachments": {},
   "cell_type": "markdown",
   "metadata": {},
   "source": [
    "# XGBoost"
   ]
  },
  {
   "attachments": {},
   "cell_type": "markdown",
   "metadata": {},
   "source": [
    "### Basic model"
   ]
  },
  {
   "cell_type": "code",
   "execution_count": 6,
   "metadata": {},
   "outputs": [
    {
     "name": "stdout",
     "output_type": "stream",
     "text": [
      "Training set score: 1.0\n",
      "Test set score: 0.525\n",
      "CV Mean Accuracy: 0.505 (0.050)\n"
     ]
    }
   ],
   "source": [
    "pipe = Pipeline([\n",
    "('classifier', xgb.XGBClassifier(objective='multi:softmax'))\n",
    "])\n",
    "\n",
    "pipe.fit(X_train, y_train)\n",
    " \n",
    "print('Training set score: ' + str(pipe.score(X_train,y_train)))\n",
    "print('Test set score: ' + str(pipe.score(X_test,y_test)))\n",
    "\n",
    "cv = RepeatedStratifiedKFold(n_splits=5, n_repeats=3, random_state=1)\n",
    "n_scores = cross_val_score(pipe, X_train, y_train, scoring='accuracy', cv=cv, n_jobs=-1)\n",
    "print('CV Mean Accuracy: %.3f (%.3f)' % (mean(n_scores), std(n_scores)))"
   ]
  },
  {
   "attachments": {},
   "cell_type": "markdown",
   "metadata": {},
   "source": [
    "# Hiperparameter tuning\n",
    "### 1. rather high learning rate(0,05-0,3)\n",
    "### 2. optymalize parameters trees (max_depth, min_child_weight, gamma, subsample, colsample_bytree) for learning rate and number of trees\n",
    "### 3. parameters for regulariation (lambda, alpha)\n",
    "### 4. reduce leraning rate and choose optimal parameters"
   ]
  },
  {
   "attachments": {},
   "cell_type": "markdown",
   "metadata": {},
   "source": [
    "### Ad. 1 Starting parameters for boosting parameters"
   ]
  },
  {
   "cell_type": "code",
   "execution_count": 7,
   "metadata": {},
   "outputs": [],
   "source": [
    "parameters={\n",
    "    'classifier__learning_rate' : [0.1],\n",
    "    'classifier__n_estimators':[100],\n",
    "    'classifier__max_depth':[5],\n",
    "    'classifier__min_child_weight':[1],\n",
    "    'classifier__gamma':[0],\n",
    "    'classifier__subsample':[0.8],\n",
    "    'classifier__colsample_bytree':[0.8],\n",
    "    'classifier__objective': ['multi:softmax'],\n",
    "    'classifier__nthread':[4],\n",
    "    'classifier__seed':[1], \n",
    "    'classifier__num_class':[3]}\n"
   ]
  },
  {
   "cell_type": "code",
   "execution_count": 8,
   "metadata": {},
   "outputs": [],
   "source": [
    "def fit_model(parameters,X_train,y_train,X_test,y_test):\n",
    "    pipe = Pipeline([\n",
    "    ('classifier', xgb.XGBClassifier())\n",
    "    ])\n",
    "\n",
    "    # -----------------------------------------------\n",
    "\n",
    "    scoring = {\"Accuracy\": 'accuracy'}\n",
    "    cv = RepeatedStratifiedKFold(n_splits=5, n_repeats=3, random_state=1)\n",
    "    grid = GridSearchCV(pipe, param_grid=parameters, cv=cv,scoring=scoring,refit='Accuracy',n_jobs=-1,verbose=1).fit(X_train, y_train)\n",
    "\n",
    "    # -----------------------------------------------------\n",
    "    print(\"The best parameters are %s\" % (grid.best_params_)) \n",
    "    print('Training set score: ' + str(grid.score(X_train,y_train)))\n",
    "    print('Test set score: ' + str(grid.score(X_test,y_test)))\n",
    "    print('CV Mean Accuracy: %.3f ' % (grid.best_score_))"
   ]
  },
  {
   "cell_type": "code",
   "execution_count": 9,
   "metadata": {},
   "outputs": [
    {
     "name": "stdout",
     "output_type": "stream",
     "text": [
      "Fitting 15 folds for each of 1 candidates, totalling 15 fits\n",
      "The best parameters are {'classifier__colsample_bytree': 0.8, 'classifier__gamma': 0, 'classifier__learning_rate': 0.1, 'classifier__max_depth': 5, 'classifier__min_child_weight': 1, 'classifier__n_estimators': 100, 'classifier__nthread': 4, 'classifier__num_class': 3, 'classifier__objective': 'multi:softmax', 'classifier__seed': 1, 'classifier__subsample': 0.8}\n",
      "Training set score: 1.0\n",
      "Test set score: 0.5875\n",
      "CV Mean Accuracy: 0.508 \n"
     ]
    }
   ],
   "source": [
    "fit_model(parameters,X_train,y_train,X_test,y_test)"
   ]
  },
  {
   "attachments": {},
   "cell_type": "markdown",
   "metadata": {},
   "source": [
    "### Optimalie max_depth and min_child_leaf "
   ]
  },
  {
   "cell_type": "code",
   "execution_count": 19,
   "metadata": {},
   "outputs": [],
   "source": [
    "parameters={\n",
    "    'classifier__learning_rate' : [0.1],\n",
    "    'classifier__n_estimators':[100],\n",
    "    'classifier__max_depth':[2,3,5,10],\n",
    "    'classifier__min_child_weight':list(range(1,6,2)),\n",
    "    'classifier__gamma':[0],\n",
    "    'classifier__subsample':[0.8],\n",
    "    'classifier__colsample_bytree':[0.8],\n",
    "    'classifier__objective': ['multi:softmax'],\n",
    "    'classifier__nthread':[4],\n",
    "    'classifier__seed':[1], \n",
    "    'classifier__num_class':[3]}"
   ]
  },
  {
   "cell_type": "code",
   "execution_count": 20,
   "metadata": {},
   "outputs": [
    {
     "name": "stdout",
     "output_type": "stream",
     "text": [
      "Fitting 15 folds for each of 12 candidates, totalling 180 fits\n",
      "The best parameters are {'classifier__colsample_bytree': 0.8, 'classifier__gamma': 0, 'classifier__learning_rate': 0.1, 'classifier__max_depth': 10, 'classifier__min_child_weight': 1, 'classifier__n_estimators': 100, 'classifier__nthread': 4, 'classifier__num_class': 3, 'classifier__objective': 'multi:softmax', 'classifier__seed': 1, 'classifier__subsample': 0.8}\n",
      "Training set score: 1.0\n",
      "Test set score: 0.55\n",
      "CV Mean Accuracy: 0.513 \n"
     ]
    }
   ],
   "source": [
    "fit_model(parameters,X_train,y_train,X_test,y_test)"
   ]
  },
  {
   "attachments": {},
   "cell_type": "markdown",
   "metadata": {},
   "source": [
    "### Best results for max depth=10 and min child weight=1"
   ]
  },
  {
   "cell_type": "code",
   "execution_count": 21,
   "metadata": {},
   "outputs": [],
   "source": [
    "parameters={\n",
    "    'classifier__learning_rate' : [0.1],\n",
    "    'classifier__n_estimators':[100],\n",
    "    'classifier__max_depth':[8,10,12],\n",
    "    'classifier__min_child_weight':[1,2,3],\n",
    "    'classifier__gamma':[0],\n",
    "    'classifier__subsample':[0.8],\n",
    "    'classifier__colsample_bytree':[0.8],\n",
    "    'classifier__objective': ['multi:softmax'],\n",
    "    'classifier__nthread':[4],\n",
    "    'classifier__seed':[1], \n",
    "    'classifier__num_class':[3]}"
   ]
  },
  {
   "cell_type": "code",
   "execution_count": 23,
   "metadata": {},
   "outputs": [
    {
     "name": "stdout",
     "output_type": "stream",
     "text": [
      "Fitting 15 folds for each of 9 candidates, totalling 135 fits\n",
      "The best parameters are {'classifier__colsample_bytree': 0.8, 'classifier__gamma': 0, 'classifier__learning_rate': 0.1, 'classifier__max_depth': 10, 'classifier__min_child_weight': 2, 'classifier__n_estimators': 100, 'classifier__nthread': 4, 'classifier__num_class': 3, 'classifier__objective': 'multi:softmax', 'classifier__seed': 1, 'classifier__subsample': 0.8}\n",
      "Training set score: 1.0\n",
      "Test set score: 0.575\n",
      "CV Mean Accuracy: 0.515 \n"
     ]
    }
   ],
   "source": [
    "fit_model(parameters,X_train,y_train,X_test,y_test)"
   ]
  },
  {
   "attachments": {},
   "cell_type": "markdown",
   "metadata": {},
   "source": [
    "### Change min child weight"
   ]
  },
  {
   "cell_type": "code",
   "execution_count": 24,
   "metadata": {},
   "outputs": [],
   "source": [
    "parameters={\n",
    "    'classifier__learning_rate' : [0.1],\n",
    "    'classifier__n_estimators':[100],\n",
    "    'classifier__max_depth':[10],\n",
    "    'classifier__min_child_weight':[0,0.5,1,1.5,2,2.5],\n",
    "    'classifier__gamma':[0],\n",
    "    'classifier__subsample':[0.8],\n",
    "    'classifier__colsample_bytree':[0.8],\n",
    "    'classifier__objective': ['multi:softmax'],\n",
    "    'classifier__nthread':[4],\n",
    "    'classifier__seed':[1], \n",
    "    'classifier__num_class':[3]}"
   ]
  },
  {
   "cell_type": "code",
   "execution_count": 25,
   "metadata": {},
   "outputs": [
    {
     "name": "stdout",
     "output_type": "stream",
     "text": [
      "Fitting 15 folds for each of 6 candidates, totalling 90 fits\n",
      "The best parameters are {'classifier__colsample_bytree': 0.8, 'classifier__gamma': 0, 'classifier__learning_rate': 0.1, 'classifier__max_depth': 10, 'classifier__min_child_weight': 1.5, 'classifier__n_estimators': 100, 'classifier__nthread': 4, 'classifier__num_class': 3, 'classifier__objective': 'multi:softmax', 'classifier__seed': 1, 'classifier__subsample': 0.8}\n",
      "Training set score: 1.0\n",
      "Test set score: 0.5625\n",
      "CV Mean Accuracy: 0.517 \n"
     ]
    }
   ],
   "source": [
    "fit_model(parameters,X_train,y_train,X_test,y_test)"
   ]
  },
  {
   "attachments": {},
   "cell_type": "markdown",
   "metadata": {},
   "source": [
    "### Optimal min child weight=0, max depth=3\n",
    "### Check for optimal gamma"
   ]
  },
  {
   "cell_type": "code",
   "execution_count": 26,
   "metadata": {},
   "outputs": [],
   "source": [
    "parameters={\n",
    "    'classifier__learning_rate' : [0.1],\n",
    "    'classifier__n_estimators':[100],\n",
    "    'classifier__max_depth':[10],\n",
    "    'classifier__min_child_weight':[1.5],\n",
    "    'classifier__gamma':[i/10.0 for i in range(0,5)],\n",
    "    'classifier__subsample':[0.8],\n",
    "    'classifier__colsample_bytree':[0.8],\n",
    "    'classifier__objective': ['multi:softmax'],\n",
    "    'classifier__nthread':[4],\n",
    "    'classifier__seed':[1], \n",
    "    'classifier__num_class':[3]}"
   ]
  },
  {
   "cell_type": "code",
   "execution_count": 27,
   "metadata": {},
   "outputs": [
    {
     "name": "stdout",
     "output_type": "stream",
     "text": [
      "Fitting 15 folds for each of 5 candidates, totalling 75 fits\n",
      "The best parameters are {'classifier__colsample_bytree': 0.8, 'classifier__gamma': 0.0, 'classifier__learning_rate': 0.1, 'classifier__max_depth': 10, 'classifier__min_child_weight': 1.5, 'classifier__n_estimators': 100, 'classifier__nthread': 4, 'classifier__num_class': 3, 'classifier__objective': 'multi:softmax', 'classifier__seed': 1, 'classifier__subsample': 0.8}\n",
      "Training set score: 1.0\n",
      "Test set score: 0.5625\n",
      "CV Mean Accuracy: 0.517 \n"
     ]
    }
   ],
   "source": [
    "fit_model(parameters,X_train,y_train,X_test,y_test)"
   ]
  },
  {
   "attachments": {},
   "cell_type": "markdown",
   "metadata": {},
   "source": [
    "### Optimal gamma=0\n",
    "### Check subsmaple and colsample_bytree"
   ]
  },
  {
   "cell_type": "code",
   "execution_count": 28,
   "metadata": {},
   "outputs": [],
   "source": [
    "parameters={\n",
    "    'classifier__learning_rate' : [0.1],\n",
    "    'classifier__n_estimators':[100],\n",
    "    'classifier__max_depth':[10],\n",
    "    'classifier__min_child_weight':[1.5],\n",
    "    'classifier__gamma':[0],\n",
    "    'classifier__subsample':[i/10.0 for i in range(6,10)],\n",
    "    'classifier__colsample_bytree':[i/10.0 for i in range(6,10)],\n",
    "    'classifier__objective': ['multi:softmax'],\n",
    "    'classifier__nthread':[4],\n",
    "    'classifier__seed':[1], \n",
    "    'classifier__num_class':[3]}"
   ]
  },
  {
   "cell_type": "code",
   "execution_count": 29,
   "metadata": {},
   "outputs": [
    {
     "name": "stdout",
     "output_type": "stream",
     "text": [
      "Fitting 15 folds for each of 16 candidates, totalling 240 fits\n",
      "The best parameters are {'classifier__colsample_bytree': 0.8, 'classifier__gamma': 0, 'classifier__learning_rate': 0.1, 'classifier__max_depth': 10, 'classifier__min_child_weight': 1.5, 'classifier__n_estimators': 100, 'classifier__nthread': 4, 'classifier__num_class': 3, 'classifier__objective': 'multi:softmax', 'classifier__seed': 1, 'classifier__subsample': 0.6}\n",
      "Training set score: 1.0\n",
      "Test set score: 0.5625\n",
      "CV Mean Accuracy: 0.520 \n"
     ]
    }
   ],
   "source": [
    "fit_model(parameters,X_train,y_train,X_test,y_test)"
   ]
  },
  {
   "attachments": {},
   "cell_type": "markdown",
   "metadata": {},
   "source": [
    "### Narrow results to 0.05"
   ]
  },
  {
   "cell_type": "code",
   "execution_count": 30,
   "metadata": {},
   "outputs": [],
   "source": [
    "parameters={\n",
    "    'classifier__learning_rate' : [0.1],\n",
    "    'classifier__n_estimators':[100],\n",
    "    'classifier__max_depth':[10],\n",
    "    'classifier__min_child_weight':[1.5],\n",
    "    'classifier__gamma':[0],\n",
    "    'classifier__subsample':[i/100.0 for i in range(50,70,5)],\n",
    "    'classifier__colsample_bytree':[i/100.0 for i in range(70,90,5)],\n",
    "    'classifier__objective': ['multi:softmax'],\n",
    "    'classifier__nthread':[4],\n",
    "    'classifier__seed':[1], \n",
    "    'classifier__num_class':[3]}"
   ]
  },
  {
   "cell_type": "code",
   "execution_count": 31,
   "metadata": {},
   "outputs": [
    {
     "name": "stdout",
     "output_type": "stream",
     "text": [
      "Fitting 15 folds for each of 16 candidates, totalling 240 fits\n",
      "The best parameters are {'classifier__colsample_bytree': 0.7, 'classifier__gamma': 0, 'classifier__learning_rate': 0.1, 'classifier__max_depth': 10, 'classifier__min_child_weight': 1.5, 'classifier__n_estimators': 100, 'classifier__nthread': 4, 'classifier__num_class': 3, 'classifier__objective': 'multi:softmax', 'classifier__seed': 1, 'classifier__subsample': 0.55}\n",
      "Training set score: 1.0\n",
      "Test set score: 0.55\n",
      "CV Mean Accuracy: 0.528 \n"
     ]
    }
   ],
   "source": [
    "fit_model(parameters,X_train,y_train,X_test,y_test)"
   ]
  },
  {
   "attachments": {},
   "cell_type": "markdown",
   "metadata": {},
   "source": [
    "### Optimal values for both are 0,8\n",
    "### Check for optimal regulariation parameters(alpha i lambda)"
   ]
  },
  {
   "cell_type": "code",
   "execution_count": 32,
   "metadata": {},
   "outputs": [],
   "source": [
    "parameters={\n",
    "    'classifier__learning_rate' : [0.1],\n",
    "    'classifier__n_estimators':[100],\n",
    "    'classifier__max_depth':[10],\n",
    "    'classifier__min_child_weight':[1.5],\n",
    "    'classifier__gamma':[0],\n",
    "    'classifier__subsample':[0.55],\n",
    "    'classifier__colsample_bytree':[0.7],\n",
    "    'classifier__objective': ['multi:softmax'],\n",
    "    'classifier__nthread':[4],\n",
    "    'classifier__seed':[1], \n",
    "    'classifier__num_class':[3],\n",
    "    'classifier__reg_alpha':[1e-5, 1e-2, 0.1, 1, 100],\n",
    "    'classifier__reg_lambda':[1e-5, 1e-2, 0.1, 1, 100]}"
   ]
  },
  {
   "cell_type": "code",
   "execution_count": 33,
   "metadata": {},
   "outputs": [
    {
     "name": "stdout",
     "output_type": "stream",
     "text": [
      "Fitting 15 folds for each of 25 candidates, totalling 375 fits\n",
      "The best parameters are {'classifier__colsample_bytree': 0.7, 'classifier__gamma': 0, 'classifier__learning_rate': 0.1, 'classifier__max_depth': 10, 'classifier__min_child_weight': 1.5, 'classifier__n_estimators': 100, 'classifier__nthread': 4, 'classifier__num_class': 3, 'classifier__objective': 'multi:softmax', 'classifier__reg_alpha': 1, 'classifier__reg_lambda': 100, 'classifier__seed': 1, 'classifier__subsample': 0.55}\n",
      "Training set score: 0.685\n",
      "Test set score: 0.55\n",
      "CV Mean Accuracy: 0.580 \n"
     ]
    }
   ],
   "source": [
    "fit_model(parameters,X_train,y_train,X_test,y_test)"
   ]
  },
  {
   "cell_type": "code",
   "execution_count": 34,
   "metadata": {},
   "outputs": [],
   "source": [
    "parameters={\n",
    "    'classifier__learning_rate' : [0.1],\n",
    "    'classifier__n_estimators':[100],\n",
    "    'classifier__max_depth':[10],\n",
    "    'classifier__min_child_weight':[1.5],\n",
    "    'classifier__gamma':[0],\n",
    "    'classifier__subsample':[0.55],\n",
    "    'classifier__colsample_bytree':[0.7],\n",
    "    'classifier__objective': ['multi:softmax'],\n",
    "    'classifier__nthread':[4],\n",
    "    'classifier__seed':[1], \n",
    "    'classifier__num_class':[3],\n",
    "    'classifier__reg_alpha':[0.1, 1, 10,100],\n",
    "    'classifier__reg_lambda':[1,100,500]}"
   ]
  },
  {
   "cell_type": "code",
   "execution_count": 35,
   "metadata": {},
   "outputs": [
    {
     "name": "stdout",
     "output_type": "stream",
     "text": [
      "Fitting 15 folds for each of 12 candidates, totalling 180 fits\n",
      "The best parameters are {'classifier__colsample_bytree': 0.7, 'classifier__gamma': 0, 'classifier__learning_rate': 0.1, 'classifier__max_depth': 10, 'classifier__min_child_weight': 1.5, 'classifier__n_estimators': 100, 'classifier__nthread': 4, 'classifier__num_class': 3, 'classifier__objective': 'multi:softmax', 'classifier__reg_alpha': 10, 'classifier__reg_lambda': 1, 'classifier__seed': 1, 'classifier__subsample': 0.55}\n",
      "Training set score: 0.63\n",
      "Test set score: 0.5625\n",
      "CV Mean Accuracy: 0.583 \n"
     ]
    }
   ],
   "source": [
    "fit_model(parameters,X_train,y_train,X_test,y_test)"
   ]
  },
  {
   "attachments": {},
   "cell_type": "markdown",
   "metadata": {},
   "source": [
    "### Optimal parameters alpha=10 and lambda=1 so.."
   ]
  },
  {
   "attachments": {},
   "cell_type": "markdown",
   "metadata": {},
   "source": [
    "### Reduce learning rate and add trees"
   ]
  },
  {
   "cell_type": "code",
   "execution_count": 36,
   "metadata": {},
   "outputs": [],
   "source": [
    "parameters={\n",
    "    'classifier__learning_rate' : [0.01,0.05,0.1],\n",
    "    'classifier__n_estimators':list(range(100,1000,500)),\n",
    "    'classifier__max_depth':[10],\n",
    "    'classifier__min_child_weight':[1.5],\n",
    "    'classifier__gamma':[0],\n",
    "    'classifier__subsample':[0.55],\n",
    "    'classifier__colsample_bytree':[0.7],\n",
    "    'classifier__objective': ['multi:softmax'],\n",
    "    'classifier__nthread':[4],\n",
    "    'classifier__seed':[1], \n",
    "    'classifier__num_class':[3],\n",
    "    'classifier__reg_alpha':[10],\n",
    "    'classifier__reg_lambda':[1]}"
   ]
  },
  {
   "cell_type": "code",
   "execution_count": 37,
   "metadata": {},
   "outputs": [
    {
     "name": "stdout",
     "output_type": "stream",
     "text": [
      "Fitting 15 folds for each of 6 candidates, totalling 90 fits\n",
      "The best parameters are {'classifier__colsample_bytree': 0.7, 'classifier__gamma': 0, 'classifier__learning_rate': 0.1, 'classifier__max_depth': 10, 'classifier__min_child_weight': 1.5, 'classifier__n_estimators': 100, 'classifier__nthread': 4, 'classifier__num_class': 3, 'classifier__objective': 'multi:softmax', 'classifier__reg_alpha': 10, 'classifier__reg_lambda': 1, 'classifier__seed': 1, 'classifier__subsample': 0.55}\n",
      "Training set score: 0.63\n",
      "Test set score: 0.5625\n",
      "CV Mean Accuracy: 0.583 \n"
     ]
    }
   ],
   "source": [
    "fit_model(parameters,X_train,y_train,X_test,y_test)"
   ]
  },
  {
   "attachments": {},
   "cell_type": "markdown",
   "metadata": {},
   "source": [
    "### same learning rate and n estimators"
   ]
  },
  {
   "cell_type": "code",
   "execution_count": 38,
   "metadata": {},
   "outputs": [],
   "source": [
    "parameters={\n",
    "    'classifier__learning_rate' : [0.1],\n",
    "    'classifier__n_estimators':[100],\n",
    "    'classifier__max_depth':[10],\n",
    "    'classifier__min_child_weight':[1.5],\n",
    "    'classifier__gamma':[0],\n",
    "    'classifier__subsample':[0.55],\n",
    "    'classifier__colsample_bytree':[0.7],\n",
    "    'classifier__objective': ['multi:softmax'],\n",
    "    'classifier__nthread':[4],\n",
    "    'classifier__seed':[1], \n",
    "    'classifier__num_class':[3],\n",
    "    'classifier__reg_alpha':[10],\n",
    "    'classifier__reg_lambda':[1]}"
   ]
  },
  {
   "cell_type": "code",
   "execution_count": 39,
   "metadata": {},
   "outputs": [
    {
     "name": "stdout",
     "output_type": "stream",
     "text": [
      "Fitting 15 folds for each of 1 candidates, totalling 15 fits\n",
      "The best parameters are {'classifier__colsample_bytree': 0.7, 'classifier__gamma': 0, 'classifier__learning_rate': 0.1, 'classifier__max_depth': 10, 'classifier__min_child_weight': 1.5, 'classifier__n_estimators': 100, 'classifier__nthread': 4, 'classifier__num_class': 3, 'classifier__objective': 'multi:softmax', 'classifier__reg_alpha': 10, 'classifier__reg_lambda': 1, 'classifier__seed': 1, 'classifier__subsample': 0.55}\n"
     ]
    }
   ],
   "source": [
    "clf=xgb.XGBClassifier()\n",
    "\n",
    "run_classifier(clf, param_grid=parameters, title='XGBoost_20kolejek',X_train=X_train,y_train=y_train)"
   ]
  },
  {
   "cell_type": "code",
   "execution_count": 6,
   "metadata": {},
   "outputs": [
    {
     "data": {
      "image/png": "[encoded data removed]",
      "text/plain": [
       "<Figure size 864x432 with 1 Axes>"
      ]
     },
     "metadata": {
      "needs_background": "light"
     },
     "output_type": "display_data"
    },
    {
     "name": "stdout",
     "output_type": "stream",
     "text": [
      "Accuracy score: 56.25%\n",
      "Precision score: 44.36%\n",
      "Recall score: 56.25%\n",
      "---------------------------------\n"
     ]
    },
    {
     "data": {
      "image/png": "[encoded data removed]",
      "text/plain": [
       "<Figure size 1152x648 with 6 Axes>"
      ]
     },
     "metadata": {
      "needs_background": "light"
     },
     "output_type": "display_data"
    },
    {
     "name": "stdout",
     "output_type": "stream",
     "text": [
      "0 ROC AUC OvR: 0.7699\n",
      "1 ROC AUC OvR: 0.5668\n",
      "2 ROC AUC OvR: 0.7366\n",
      "average ROC AUC OvR: 0.6911\n",
      "---------------------------------\n"
     ]
    }
   ],
   "source": [
    "grid=joblib.load('grid_XGBoost_20kolejek.pkl')\n",
    "\n",
    "classifier_plots(grid)"
   ]
  },
  {
   "cell_type": "code",
   "execution_count": 8,
   "metadata": {},
   "outputs": [
    {
     "data": {
      "text/plain": [
       "0.5833333333333333"
      ]
     },
     "execution_count": 8,
     "metadata": {},
     "output_type": "execute_result"
    }
   ],
   "source": [
    "grid.best_score_"
   ]
  },
  {
   "cell_type": "code",
   "execution_count": 43,
   "metadata": {},
   "outputs": [],
   "source": [
    "functions.grid_to_predictions(grid,'XGBoost_20kolejek',y_test_adh,X_test)"
   ]
  },
  {
   "attachments": {},
   "cell_type": "markdown",
   "metadata": {},
   "source": [
    "# Random Search"
   ]
  },
  {
   "cell_type": "code",
   "execution_count": 44,
   "metadata": {},
   "outputs": [],
   "source": [
    "parameters={\n",
    "    'classifier__learning_rate' : [0.01,0.05,0.1,0.25],\n",
    "    'classifier__n_estimators':list(range(100,1000,200)),\n",
    "    'classifier__max_depth':list(range(2,10,2)),\n",
    "    'classifier__min_child_weight':list(range(0,6,2)),\n",
    "    'classifier__gamma':[i/10.0 for i in range(0,5)],\n",
    "    'classifier__subsample':[i/10.0 for i in range(6,10)],\n",
    "    'classifier__colsample_bytree':[i/10.0 for i in range(6,10)],\n",
    "    'classifier__objective': ['multi:softmax'],\n",
    "    'classifier__nthread':[4],\n",
    "    'classifier__seed':[1], \n",
    "    'classifier__num_class':[3],\n",
    "    'classifier__reg_alpha':[0,1e-5, 1e-2, 0.1, 1, 100],\n",
    "    'classifier__reg_lambda':[10,1e-5, 1e-2, 0.1, 1, 100]}"
   ]
  },
  {
   "cell_type": "code",
   "execution_count": 45,
   "metadata": {},
   "outputs": [],
   "source": [
    "def run_classifier_rs(clf, param_grid, title,X_train,y_train):\n",
    "    # -----------------------------------------------------\n",
    "    \n",
    "    pipe = Pipeline([\n",
    "    ('classifier', clf)\n",
    "    ])\n",
    "\n",
    "    # -----------------------------------------------\n",
    "    \n",
    "    scoring = {\"Accuracy\": 'accuracy',\"Log_loss\":'neg_log_loss',\"Precision\":make_scorer(precision_score, average = 'macro'),'Recall': make_scorer(recall_score, average = 'macro'),\n",
    "               'Matthews_corrcoef': make_scorer(matthews_corrcoef),'F1_score':'f1_macro',\"AUC\":roc_auc_ovr_scorer, 'RPS': rps_scorer}\n",
    "    cv = RepeatedStratifiedKFold(n_splits=5, n_repeats=3, random_state=1)\n",
    "    grid = RandomizedSearchCV(pipe, param_grid, n_iter=50,cv=cv,scoring=scoring,refit='Accuracy',n_jobs=-1,verbose=1).fit(X_train, y_train)\n",
    "\n",
    "    # -----------------------------------------------------\n",
    "    print(\"The best parameters are %s\" % (grid.best_params_)) \n",
    "\n",
    "    #y_pred = grid.best_estimator_.predict(X_test)\n",
    "    #y_proba = grid.best_estimator_.predict_proba(X_test)\n",
    "\n",
    "    # -----------------------------------------------------\n",
    "\n",
    "    joblib.dump(grid, 'grid_'+title+'.pkl')\n",
    "\n",
    "    #------------------------------------------------"
   ]
  },
  {
   "cell_type": "code",
   "execution_count": 46,
   "metadata": {},
   "outputs": [
    {
     "name": "stdout",
     "output_type": "stream",
     "text": [
      "Fitting 15 folds for each of 50 candidates, totalling 750 fits\n",
      "The best parameters are {'classifier__subsample': 0.8, 'classifier__seed': 1, 'classifier__reg_lambda': 100, 'classifier__reg_alpha': 1, 'classifier__objective': 'multi:softmax', 'classifier__num_class': 3, 'classifier__nthread': 4, 'classifier__n_estimators': 300, 'classifier__min_child_weight': 2, 'classifier__max_depth': 4, 'classifier__learning_rate': 0.01, 'classifier__gamma': 0.2, 'classifier__colsample_bytree': 0.8}\n"
     ]
    }
   ],
   "source": [
    "clf=xgb.XGBClassifier()\n",
    "\n",
    "run_classifier_rs(clf, param_grid=parameters, title='XGBoost_RS_20kolejek',X_train=X_train,y_train=y_train)"
   ]
  },
  {
   "cell_type": "code",
   "execution_count": 50,
   "metadata": {},
   "outputs": [
    {
     "name": "stdout",
     "output_type": "stream",
     "text": [
      "0.59\n",
      "0.55\n"
     ]
    }
   ],
   "source": [
    "grid=joblib.load('grid_XGBoost_RS_20kolejek.pkl')\n",
    "print(grid.best_score_)\n",
    "print(grid.score(X_test,y_test))\n",
    "#classifier_plots(grid)"
   ]
  },
  {
   "attachments": {},
   "cell_type": "markdown",
   "metadata": {},
   "source": [
    "# Gridsearch"
   ]
  },
  {
   "cell_type": "code",
   "execution_count": 51,
   "metadata": {},
   "outputs": [],
   "source": [
    "parameters={\n",
    "    'classifier__learning_rate' : [0.01,0.1],\n",
    "    'classifier__n_estimators':[10,100,500],\n",
    "    'classifier__max_depth':[2,5,10],\n",
    "    'classifier__min_child_weight':[0,3,6],\n",
    "    'classifier__gamma':[i/10.0 for i in range(0,4,4)],\n",
    "    'classifier__subsample':[i/10.0 for i in range(6,10,4)],\n",
    "    'classifier__colsample_bytree':[i/10.0 for i in range(6,10,4)],\n",
    "    'classifier__objective': ['multi:softmax'],\n",
    "    'classifier__nthread':[4],\n",
    "    'classifier__seed':[1], \n",
    "    'classifier__num_class':[3],\n",
    "    'classifier__reg_alpha':[0, 0.1, 1, 100],\n",
    "    'classifier__reg_lambda':[0, 0.1, 1, 100]}"
   ]
  },
  {
   "cell_type": "code",
   "execution_count": 52,
   "metadata": {},
   "outputs": [
    {
     "name": "stdout",
     "output_type": "stream",
     "text": [
      "Fitting 15 folds for each of 864 candidates, totalling 12960 fits\n",
      "The best parameters are {'classifier__colsample_bytree': 0.6, 'classifier__gamma': 0.0, 'classifier__learning_rate': 0.1, 'classifier__max_depth': 2, 'classifier__min_child_weight': 0, 'classifier__n_estimators': 100, 'classifier__nthread': 4, 'classifier__num_class': 3, 'classifier__objective': 'multi:softmax', 'classifier__reg_alpha': 1, 'classifier__reg_lambda': 100, 'classifier__seed': 1, 'classifier__subsample': 0.6}\n"
     ]
    }
   ],
   "source": [
    "clf=xgb.XGBClassifier()\n",
    "\n",
    "run_classifier(clf, param_grid=parameters, title='XGBoost_GS_20kolejek',X_train=X_train,y_train=y_train)"
   ]
  },
  {
   "cell_type": "code",
   "execution_count": 53,
   "metadata": {},
   "outputs": [
    {
     "name": "stdout",
     "output_type": "stream",
     "text": [
      "0.5916666666666667\n",
      "0.5625\n"
     ]
    }
   ],
   "source": [
    "grid=joblib.load('grid_XGBoost_GS_20kolejek.pkl')\n",
    "print(grid.best_score_)\n",
    "print(grid.score(X_test,y_test))\n",
    "#classifier_plots(grid)"
   ]
  }
 ],
 "metadata": {
  "kernelspec": {
   "display_name": "Python 3",
   "language": "python",
   "name": "python3"
  },
  "language_info": {
   "codemirror_mode": {
    "name": "ipython",
    "version": 3
   },
   "file_extension": ".py",
   "mimetype": "text/x-python",
   "name": "python",
   "nbconvert_exporter": "python",
   "pygments_lexer": "ipython3",
   "version": "3.10.2"
  },
  "orig_nbformat": 4,
  "vscode": {
   "interpreter": {
    "hash": "5312a05d4c1062e7e99dc4a1327331a73c17135ec320657c0e8e8843948bfa85"
   }
  }
 },
 "nbformat": 4,
 "nbformat_minor": 2
}
